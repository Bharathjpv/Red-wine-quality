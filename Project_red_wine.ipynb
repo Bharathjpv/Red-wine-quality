{
  "nbformat": 4,
  "nbformat_minor": 0,
  "metadata": {
    "colab": {
      "name": "Project red wine.ipynb",
      "provenance": [],
      "collapsed_sections": [],
      "include_colab_link": true
    },
    "kernelspec": {
      "name": "python3",
      "display_name": "Python 3"
    },
    "language_info": {
      "name": "python"
    }
  },
  "cells": [
    {
      "cell_type": "markdown",
      "metadata": {
        "id": "view-in-github",
        "colab_type": "text"
      },
      "source": [
        "<a href=\"https://colab.research.google.com/github/Bharathjpv/Red-wine-quality/blob/main/Project_red_wine.ipynb\" target=\"_parent\"><img src=\"https://colab.research.google.com/assets/colab-badge.svg\" alt=\"Open In Colab\"/></a>"
      ]
    },
    {
      "cell_type": "code",
      "metadata": {
        "colab": {
          "resources": {
            "http://localhost:8080/nbextensions/google.colab/files.js": {
              "data": "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",
              "ok": true,
              "headers": [
                [
                  "content-type",
                  "application/javascript"
                ]
              ],
              "status": 200,
              "status_text": ""
            }
          },
          "base_uri": "https://localhost:8080/",
          "height": 38
        },
        "id": "-GwiAxnVS6BG",
        "outputId": "946e9cb8-a562-4e48-d710-ec30f9ee16d2"
      },
      "source": [
        "from google.colab import files\n",
        "uploaded = files.upload()"
      ],
      "execution_count": null,
      "outputs": [
        {
          "output_type": "display_data",
          "data": {
            "text/html": [
              "\n",
              "     <input type=\"file\" id=\"files-55d08daf-acc9-4b0b-a542-3258f198da89\" name=\"files[]\" multiple disabled\n",
              "        style=\"border:none\" />\n",
              "     <output id=\"result-55d08daf-acc9-4b0b-a542-3258f198da89\">\n",
              "      Upload widget is only available when the cell has been executed in the\n",
              "      current browser session. Please rerun this cell to enable.\n",
              "      </output>\n",
              "      <script src=\"/nbextensions/google.colab/files.js\"></script> "
            ],
            "text/plain": [
              "<IPython.core.display.HTML object>"
            ]
          },
          "metadata": {}
        }
      ]
    },
    {
      "cell_type": "code",
      "metadata": {
        "id": "0U6lRdwSWRk5"
      },
      "source": [
        "import warnings\n",
        "warnings.filterwarnings('ignore')"
      ],
      "execution_count": null,
      "outputs": []
    },
    {
      "cell_type": "code",
      "metadata": {
        "id": "8Iap-B2VTkwP"
      },
      "source": [
        "import pandas as pd\n",
        "data = pd.read_csv('winequality-red.csv', sep=';')\n",
        "data"
      ],
      "execution_count": null,
      "outputs": []
    },
    {
      "cell_type": "code",
      "metadata": {
        "id": "OEdI4l2cTk4E"
      },
      "source": [
        "data.value_counts(data['quality'])"
      ],
      "execution_count": null,
      "outputs": []
    },
    {
      "cell_type": "code",
      "metadata": {
        "id": "Sy4mYjqWTk7W"
      },
      "source": [
        "data.isnull().sum(axis=0)"
      ],
      "execution_count": null,
      "outputs": []
    },
    {
      "cell_type": "code",
      "metadata": {
        "id": "pmVhXldNTk-e"
      },
      "source": [
        "data['quality'].hist()"
      ],
      "execution_count": null,
      "outputs": []
    },
    {
      "cell_type": "markdown",
      "metadata": {
        "id": "91ee-I52VoFh"
      },
      "source": [
        "Saparate X and Y"
      ]
    },
    {
      "cell_type": "code",
      "metadata": {
        "id": "RuaGjuvNTlBU"
      },
      "source": [
        "X = data.iloc[:, :-1]\n",
        "Y = data.iloc[:, -1]"
      ],
      "execution_count": null,
      "outputs": []
    },
    {
      "cell_type": "code",
      "metadata": {
        "id": "1JSPapAETlER"
      },
      "source": [
        "from sklearn.preprocessing import StandardScaler\n",
        "scalar_ = StandardScaler()\n",
        "\n",
        "#X = scalar_.fit_transform(X)"
      ],
      "execution_count": null,
      "outputs": []
    },
    {
      "cell_type": "code",
      "metadata": {
        "id": "-5agedIlTlGy"
      },
      "source": [
        "X = pd.DataFrame(X, columns=['fixed acidity','volatile acidity',\t'citric acid',\t'residual sugar',\t'chlorides',\t'free sulfur dioxide',\t'total sulfur dioxide',\t'density',\t'pH',\t'sulphates',\t'alcohol'])\n",
        "X"
      ],
      "execution_count": null,
      "outputs": []
    },
    {
      "cell_type": "code",
      "metadata": {
        "id": "t8nbfKh0TlJu"
      },
      "source": [
        "data.corr()"
      ],
      "execution_count": null,
      "outputs": []
    },
    {
      "cell_type": "markdown",
      "metadata": {
        "id": "eoLZVcL3befx"
      },
      "source": [
        "Drop Fixed acidity and free sulphur dioxide"
      ]
    },
    {
      "cell_type": "code",
      "metadata": {
        "id": "h4tT4jXeTlMw"
      },
      "source": [
        "X.drop(columns=['fixed acidity', 'free sulfur dioxide'], inplace=True)"
      ],
      "execution_count": null,
      "outputs": []
    },
    {
      "cell_type": "markdown",
      "metadata": {
        "id": "yknZdpWjcGf3"
      },
      "source": [
        "Train test split of the data"
      ]
    },
    {
      "cell_type": "code",
      "metadata": {
        "id": "KCdUm5nMTlPu"
      },
      "source": [
        " from sklearn.model_selection import train_test_split\n",
        " X_train, X_test, Y_train, Y_test = train_test_split(X, Y, test_size=0.3, random_state=42, stratify=Y)"
      ],
      "execution_count": null,
      "outputs": []
    },
    {
      "cell_type": "markdown",
      "metadata": {
        "id": "5a8GQ-cniU9p"
      },
      "source": [
        "scaling training and testing data separately"
      ]
    },
    {
      "cell_type": "code",
      "metadata": {
        "id": "K4ZETNAQiZca"
      },
      "source": [
        "X_train = scalar_.fit_transform(X_train)\n",
        "X_test = scalar_.fit_transform(X_test)"
      ],
      "execution_count": null,
      "outputs": []
    },
    {
      "cell_type": "markdown",
      "metadata": {
        "id": "uvhkuZqTiCXc"
      },
      "source": [
        ""
      ]
    },
    {
      "cell_type": "markdown",
      "metadata": {
        "id": "OzL8YiaieKxu"
      },
      "source": [
        "Over sampling of the train data"
      ]
    },
    {
      "cell_type": "code",
      "metadata": {
        "id": "M61RzyxBTlSl"
      },
      "source": [
        "from imblearn.combine import SMOTETomek\n",
        "smk = SMOTETomek(random_state=42)\n",
        "X_train, Y_train = smk.fit_sample(X_train, Y_train)"
      ],
      "execution_count": null,
      "outputs": []
    },
    {
      "cell_type": "markdown",
      "metadata": {
        "id": "FPu_9ZKmhhSk"
      },
      "source": [
        "Convert data from numpy array to pandas dataframe"
      ]
    },
    {
      "cell_type": "code",
      "metadata": {
        "colab": {
          "base_uri": "https://localhost:8080/"
        },
        "id": "l7H3d8WefuIu",
        "outputId": "c162d68d-69f6-4acf-82f0-be678bc77328"
      },
      "source": [
        "Y_train = pd.DataFrame(Y_train, columns=['quality'])\n",
        "Y_train.value_counts()"
      ],
      "execution_count": null,
      "outputs": [
        {
          "output_type": "execute_result",
          "data": {
            "text/plain": [
              "quality\n",
              "8          477\n",
              "3          477\n",
              "7          476\n",
              "4          476\n",
              "6          470\n",
              "5          470\n",
              "dtype: int64"
            ]
          },
          "metadata": {
            "tags": []
          },
          "execution_count": 107
        }
      ]
    },
    {
      "cell_type": "code",
      "metadata": {
        "colab": {
          "base_uri": "https://localhost:8080/",
          "height": 402
        },
        "id": "CxpRYJ7bgTaE",
        "outputId": "46363867-53c3-49a1-bf07-f05606deb068"
      },
      "source": [
        "X_train = pd.DataFrame(X_train, columns=['volatile acidity',\t'citric acid',\t'residual sugar',\t'chlorides','total sulfur dioxide',\t'density',\t'pH',\t'sulphates',\t'alcohol'])\n",
        "X_train"
      ],
      "execution_count": null,
      "outputs": [
        {
          "output_type": "execute_result",
          "data": {
            "text/html": [
              "<div>\n",
              "<style scoped>\n",
              "    .dataframe tbody tr th:only-of-type {\n",
              "        vertical-align: middle;\n",
              "    }\n",
              "\n",
              "    .dataframe tbody tr th {\n",
              "        vertical-align: top;\n",
              "    }\n",
              "\n",
              "    .dataframe thead th {\n",
              "        text-align: right;\n",
              "    }\n",
              "</style>\n",
              "<table border=\"1\" class=\"dataframe\">\n",
              "  <thead>\n",
              "    <tr style=\"text-align: right;\">\n",
              "      <th></th>\n",
              "      <th>volatile acidity</th>\n",
              "      <th>citric acid</th>\n",
              "      <th>residual sugar</th>\n",
              "      <th>chlorides</th>\n",
              "      <th>total sulfur dioxide</th>\n",
              "      <th>density</th>\n",
              "      <th>pH</th>\n",
              "      <th>sulphates</th>\n",
              "      <th>alcohol</th>\n",
              "    </tr>\n",
              "  </thead>\n",
              "  <tbody>\n",
              "    <tr>\n",
              "      <th>0</th>\n",
              "      <td>-0.763972</td>\n",
              "      <td>-0.696014</td>\n",
              "      <td>-0.177840</td>\n",
              "      <td>-0.731583</td>\n",
              "      <td>-0.375344</td>\n",
              "      <td>-1.509535</td>\n",
              "      <td>1.882722</td>\n",
              "      <td>0.047813</td>\n",
              "      <td>1.380643</td>\n",
              "    </tr>\n",
              "    <tr>\n",
              "      <th>1</th>\n",
              "      <td>-0.743505</td>\n",
              "      <td>0.102021</td>\n",
              "      <td>-0.584156</td>\n",
              "      <td>-0.166832</td>\n",
              "      <td>0.985048</td>\n",
              "      <td>0.307744</td>\n",
              "      <td>0.767702</td>\n",
              "      <td>-0.463380</td>\n",
              "      <td>-0.992450</td>\n",
              "    </tr>\n",
              "    <tr>\n",
              "      <th>2</th>\n",
              "      <td>-0.661639</td>\n",
              "      <td>1.099565</td>\n",
              "      <td>1.609948</td>\n",
              "      <td>-0.295185</td>\n",
              "      <td>0.161653</td>\n",
              "      <td>0.673288</td>\n",
              "      <td>-2.052643</td>\n",
              "      <td>-0.335582</td>\n",
              "      <td>-0.992450</td>\n",
              "    </tr>\n",
              "    <tr>\n",
              "      <th>3</th>\n",
              "      <td>0.402620</td>\n",
              "      <td>-1.244663</td>\n",
              "      <td>-0.665419</td>\n",
              "      <td>0.064202</td>\n",
              "      <td>1.987441</td>\n",
              "      <td>-1.102214</td>\n",
              "      <td>1.358006</td>\n",
              "      <td>-0.910674</td>\n",
              "      <td>-0.583296</td>\n",
              "    </tr>\n",
              "    <tr>\n",
              "      <th>4</th>\n",
              "      <td>-0.456974</td>\n",
              "      <td>0.002267</td>\n",
              "      <td>-0.259104</td>\n",
              "      <td>-0.757253</td>\n",
              "      <td>-0.375344</td>\n",
              "      <td>-0.705337</td>\n",
              "      <td>-1.003213</td>\n",
              "      <td>0.878502</td>\n",
              "      <td>0.398673</td>\n",
              "    </tr>\n",
              "    <tr>\n",
              "      <th>...</th>\n",
              "      <td>...</td>\n",
              "      <td>...</td>\n",
              "      <td>...</td>\n",
              "      <td>...</td>\n",
              "      <td>...</td>\n",
              "      <td>...</td>\n",
              "      <td>...</td>\n",
              "      <td>...</td>\n",
              "      <td>...</td>\n",
              "    </tr>\n",
              "    <tr>\n",
              "      <th>2841</th>\n",
              "      <td>-0.109761</td>\n",
              "      <td>-0.064010</td>\n",
              "      <td>-0.277704</td>\n",
              "      <td>0.017310</td>\n",
              "      <td>0.589289</td>\n",
              "      <td>1.462041</td>\n",
              "      <td>-0.902060</td>\n",
              "      <td>-0.548288</td>\n",
              "      <td>-0.494549</td>\n",
              "    </tr>\n",
              "    <tr>\n",
              "      <th>2842</th>\n",
              "      <td>0.338453</td>\n",
              "      <td>-1.039384</td>\n",
              "      <td>-0.155412</td>\n",
              "      <td>0.257729</td>\n",
              "      <td>0.038270</td>\n",
              "      <td>0.310467</td>\n",
              "      <td>-0.486085</td>\n",
              "      <td>0.049671</td>\n",
              "      <td>-0.753580</td>\n",
              "    </tr>\n",
              "    <tr>\n",
              "      <th>2843</th>\n",
              "      <td>0.320754</td>\n",
              "      <td>0.600793</td>\n",
              "      <td>0.472265</td>\n",
              "      <td>-0.038480</td>\n",
              "      <td>0.734449</td>\n",
              "      <td>1.247715</td>\n",
              "      <td>0.242986</td>\n",
              "      <td>0.303410</td>\n",
              "      <td>0.644165</td>\n",
              "    </tr>\n",
              "    <tr>\n",
              "      <th>2844</th>\n",
              "      <td>-1.018077</td>\n",
              "      <td>0.377717</td>\n",
              "      <td>-0.114993</td>\n",
              "      <td>-0.437597</td>\n",
              "      <td>0.006543</td>\n",
              "      <td>-0.773220</td>\n",
              "      <td>0.046850</td>\n",
              "      <td>0.706459</td>\n",
              "      <td>1.216192</td>\n",
              "    </tr>\n",
              "    <tr>\n",
              "      <th>2845</th>\n",
              "      <td>-1.178774</td>\n",
              "      <td>0.540970</td>\n",
              "      <td>-0.733118</td>\n",
              "      <td>-0.297763</td>\n",
              "      <td>-0.408764</td>\n",
              "      <td>0.240929</td>\n",
              "      <td>-0.747443</td>\n",
              "      <td>1.174590</td>\n",
              "      <td>0.360477</td>\n",
              "    </tr>\n",
              "  </tbody>\n",
              "</table>\n",
              "<p>2846 rows × 9 columns</p>\n",
              "</div>"
            ],
            "text/plain": [
              "      volatile acidity  citric acid  ...  sulphates   alcohol\n",
              "0            -0.763972    -0.696014  ...   0.047813  1.380643\n",
              "1            -0.743505     0.102021  ...  -0.463380 -0.992450\n",
              "2            -0.661639     1.099565  ...  -0.335582 -0.992450\n",
              "3             0.402620    -1.244663  ...  -0.910674 -0.583296\n",
              "4            -0.456974     0.002267  ...   0.878502  0.398673\n",
              "...                ...          ...  ...        ...       ...\n",
              "2841         -0.109761    -0.064010  ...  -0.548288 -0.494549\n",
              "2842          0.338453    -1.039384  ...   0.049671 -0.753580\n",
              "2843          0.320754     0.600793  ...   0.303410  0.644165\n",
              "2844         -1.018077     0.377717  ...   0.706459  1.216192\n",
              "2845         -1.178774     0.540970  ...   1.174590  0.360477\n",
              "\n",
              "[2846 rows x 9 columns]"
            ]
          },
          "metadata": {
            "tags": []
          },
          "execution_count": 108
        }
      ]
    },
    {
      "cell_type": "markdown",
      "metadata": {
        "id": "Rm5TbTaFhxHf"
      },
      "source": [
        "We can't try logistric regression since its not a binoial response.\n",
        "Apply SVM, Decision tree and random forest classiffier."
      ]
    },
    {
      "cell_type": "code",
      "metadata": {
        "id": "W5L5VffQgzgm"
      },
      "source": [
        "from sklearn.svm import SVC\n",
        "from sklearn.metrics import confusion_matrix"
      ],
      "execution_count": null,
      "outputs": []
    },
    {
      "cell_type": "code",
      "metadata": {
        "id": "UIoQR_93g0YN"
      },
      "source": [
        "svc = SVC(kernel='rbf', random_state=42)\n",
        "svc.fit(X_train, Y_train)\n",
        "Y_predict_svc = svc.predict(X_test)"
      ],
      "execution_count": null,
      "outputs": []
    },
    {
      "cell_type": "code",
      "metadata": {
        "colab": {
          "base_uri": "https://localhost:8080/"
        },
        "id": "1xSBdQoVg0ml",
        "outputId": "5421ad05-1831-4271-a695-103f25634cff"
      },
      "source": [
        "cmsvc = confusion_matrix(Y_test, Y_predict_svc)\n",
        "cmsvc"
      ],
      "execution_count": null,
      "outputs": [
        {
          "output_type": "execute_result",
          "data": {
            "text/plain": [
              "array([[  1,   1,   1,   0,   0,   0],\n",
              "       [  1,   9,   4,   2,   0,   0],\n",
              "       [  9,  36, 117,  38,   2,   2],\n",
              "       [  5,  21,  40,  90,  26,  10],\n",
              "       [  0,   1,   3,  13,  28,  15],\n",
              "       [  0,   0,   0,   0,   2,   3]])"
            ]
          },
          "metadata": {
            "tags": []
          },
          "execution_count": 83
        }
      ]
    },
    {
      "cell_type": "code",
      "metadata": {
        "colab": {
          "base_uri": "https://localhost:8080/"
        },
        "id": "S-v0uZ4Kg0wA",
        "outputId": "6a36a1f2-2ee7-4009-9a5f-d5b2d101ff4c"
      },
      "source": [
        "scoresvc = svc.score(X_test, Y_test)\n",
        "scoresvc"
      ],
      "execution_count": null,
      "outputs": [
        {
          "output_type": "execute_result",
          "data": {
            "text/plain": [
              "0.5166666666666667"
            ]
          },
          "metadata": {
            "tags": []
          },
          "execution_count": 84
        }
      ]
    },
    {
      "cell_type": "markdown",
      "metadata": {
        "id": "PPfCKahBk7Iv"
      },
      "source": [
        "51 percent accuracy is not a great model"
      ]
    },
    {
      "cell_type": "code",
      "metadata": {
        "id": "wDbzqyWTg02_"
      },
      "source": [
        "from sklearn.tree import DecisionTreeClassifier\n",
        "dtc = DecisionTreeClassifier(random_state=42)"
      ],
      "execution_count": null,
      "outputs": []
    },
    {
      "cell_type": "code",
      "metadata": {
        "id": "0ZXsIYE_g1EA"
      },
      "source": [
        "dtc.fit(X_train, Y_train)\n",
        "Y_predict_dtc = dtc.predict(X_test)"
      ],
      "execution_count": null,
      "outputs": []
    },
    {
      "cell_type": "code",
      "metadata": {
        "colab": {
          "base_uri": "https://localhost:8080/"
        },
        "id": "TMwDPFWLg1NO",
        "outputId": "62e7f57e-5c25-410c-fcb8-b792f92377cf"
      },
      "source": [
        "cmdtc = confusion_matrix(Y_test, Y_predict_dtc)\n",
        "cmdtc"
      ],
      "execution_count": null,
      "outputs": [
        {
          "output_type": "execute_result",
          "data": {
            "text/plain": [
              "array([[  0,   1,   2,   0,   0,   0],\n",
              "       [  2,   7,   6,   1,   0,   0],\n",
              "       [  7,  14, 120,  54,   9,   0],\n",
              "       [  0,  11,  54,  96,  23,   8],\n",
              "       [  0,   0,   7,  19,  25,   9],\n",
              "       [  0,   0,   0,   1,   2,   2]])"
            ]
          },
          "metadata": {
            "tags": []
          },
          "execution_count": 87
        }
      ]
    },
    {
      "cell_type": "code",
      "metadata": {
        "colab": {
          "base_uri": "https://localhost:8080/"
        },
        "id": "vKyXdB4zmT1i",
        "outputId": "1b322d67-6fd4-4b72-b49e-2ef08d30973f"
      },
      "source": [
        "score_dtc = dtc.score(X_test, Y_test)\n",
        "score_dtc"
      ],
      "execution_count": null,
      "outputs": [
        {
          "output_type": "execute_result",
          "data": {
            "text/plain": [
              "0.5208333333333334"
            ]
          },
          "metadata": {
            "tags": []
          },
          "execution_count": 88
        }
      ]
    },
    {
      "cell_type": "markdown",
      "metadata": {
        "id": "JzlooO4IocU5"
      },
      "source": [
        "52 is not good score. So continu with the next classifier"
      ]
    },
    {
      "cell_type": "code",
      "metadata": {
        "id": "PDSYS2GomUK0"
      },
      "source": [
        "from sklearn.ensemble import RandomForestClassifier\n",
        "rfc = RandomForestClassifier(random_state=42)\n",
        "rfc.fit(X_train, Y_train)\n",
        "Y_predict_rfc = rfc.predict(X_test)"
      ],
      "execution_count": null,
      "outputs": []
    },
    {
      "cell_type": "code",
      "metadata": {
        "colab": {
          "base_uri": "https://localhost:8080/"
        },
        "id": "w6_dOfEBoFQM",
        "outputId": "08fd02df-3987-4859-e169-cf817499c7b1"
      },
      "source": [
        "cm_rfc = confusion_matrix(Y_test, Y_predict_rfc)\n",
        "cm_rfc"
      ],
      "execution_count": null,
      "outputs": [
        {
          "output_type": "execute_result",
          "data": {
            "text/plain": [
              "array([[  0,   1,   2,   0,   0,   0],\n",
              "       [  2,   6,   4,   4,   0,   0],\n",
              "       [  4,   8, 142,  46,   4,   0],\n",
              "       [  1,   6,  48, 109,  20,   8],\n",
              "       [  0,   0,   3,  24,  27,   6],\n",
              "       [  0,   0,   0,   1,   3,   1]])"
            ]
          },
          "metadata": {
            "tags": []
          },
          "execution_count": 90
        }
      ]
    },
    {
      "cell_type": "code",
      "metadata": {
        "colab": {
          "base_uri": "https://localhost:8080/"
        },
        "id": "beBNHOnJmUTy",
        "outputId": "b2451460-b928-44c0-de85-f8da9a908ad3"
      },
      "source": [
        "score_rfc = rfc.score(X_test, Y_test)\n",
        "score_rfc"
      ],
      "execution_count": null,
      "outputs": [
        {
          "output_type": "execute_result",
          "data": {
            "text/plain": [
              "0.59375"
            ]
          },
          "metadata": {
            "tags": []
          },
          "execution_count": 91
        }
      ]
    },
    {
      "cell_type": "markdown",
      "metadata": {
        "id": "Md2eo_YMrff1"
      },
      "source": [
        "62 is a good score. Now we shall evaluate the models bult and test their accuray score on train and test dataset"
      ]
    },
    {
      "cell_type": "code",
      "metadata": {
        "id": "Wt4U5ZPErexi"
      },
      "source": [
        "from sklearn.metrics import classification_report\n",
        "cr_svm = classification_report(Y_test, Y_predict_svc)\n",
        "cr_dtc = classification_report(Y_test, Y_predict_dtc)\n",
        "cr_rfc = classification_report(Y_test, Y_predict_rfc)"
      ],
      "execution_count": null,
      "outputs": []
    },
    {
      "cell_type": "code",
      "metadata": {
        "colab": {
          "base_uri": "https://localhost:8080/"
        },
        "id": "5e-ZOvOEmUbX",
        "outputId": "1d4805c6-1125-4656-fdb8-241b0c39373a"
      },
      "source": [
        "print(cr_svm),print(cr_dtc), print(cr_rfc)"
      ],
      "execution_count": null,
      "outputs": [
        {
          "output_type": "stream",
          "text": [
            "              precision    recall  f1-score   support\n",
            "\n",
            "           3       0.06      0.33      0.11         3\n",
            "           4       0.13      0.56      0.21        16\n",
            "           5       0.71      0.57      0.63       204\n",
            "           6       0.63      0.47      0.54       192\n",
            "           7       0.48      0.47      0.47        60\n",
            "           8       0.10      0.60      0.17         5\n",
            "\n",
            "    accuracy                           0.52       480\n",
            "   macro avg       0.35      0.50      0.36       480\n",
            "weighted avg       0.62      0.52      0.55       480\n",
            "\n",
            "              precision    recall  f1-score   support\n",
            "\n",
            "           3       0.00      0.00      0.00         3\n",
            "           4       0.21      0.44      0.29        16\n",
            "           5       0.63      0.59      0.61       204\n",
            "           6       0.56      0.50      0.53       192\n",
            "           7       0.42      0.42      0.42        60\n",
            "           8       0.11      0.40      0.17         5\n",
            "\n",
            "    accuracy                           0.52       480\n",
            "   macro avg       0.32      0.39      0.34       480\n",
            "weighted avg       0.56      0.52      0.53       480\n",
            "\n",
            "              precision    recall  f1-score   support\n",
            "\n",
            "           3       0.00      0.00      0.00         3\n",
            "           4       0.29      0.38      0.32        16\n",
            "           5       0.71      0.70      0.70       204\n",
            "           6       0.59      0.57      0.58       192\n",
            "           7       0.50      0.45      0.47        60\n",
            "           8       0.07      0.20      0.10         5\n",
            "\n",
            "    accuracy                           0.59       480\n",
            "   macro avg       0.36      0.38      0.36       480\n",
            "weighted avg       0.61      0.59      0.60       480\n",
            "\n"
          ],
          "name": "stdout"
        },
        {
          "output_type": "execute_result",
          "data": {
            "text/plain": [
              "(None, None, None)"
            ]
          },
          "metadata": {
            "tags": []
          },
          "execution_count": 93
        }
      ]
    },
    {
      "cell_type": "markdown",
      "metadata": {
        "id": "Ohgx_tB-wtQH"
      },
      "source": [
        "Cross validation of the data"
      ]
    },
    {
      "cell_type": "code",
      "metadata": {
        "id": "pakpJfIFmUi8"
      },
      "source": [
        "from sklearn.model_selection import cross_validate"
      ],
      "execution_count": null,
      "outputs": []
    },
    {
      "cell_type": "code",
      "metadata": {
        "id": "2WWI11YJmUps"
      },
      "source": [
        "import numpy as np"
      ],
      "execution_count": null,
      "outputs": []
    },
    {
      "cell_type": "code",
      "metadata": {
        "id": "2NM5zvmgmUwe"
      },
      "source": [
        "svc_cv = cross_validate(svc, X_train, Y_train, cv=10, return_train_score=True)\n",
        "dtc_cv = cross_validate(dtc, X_train, Y_train, cv=10, return_train_score=True)\n",
        "rfc_cv = cross_validate(rfc, X_train, Y_train, cv=10, return_train_score=True)"
      ],
      "execution_count": null,
      "outputs": []
    },
    {
      "cell_type": "code",
      "metadata": {
        "id": "5mASAbuImU3O"
      },
      "source": [
        "avg_svc_test = np.average(svc_cv['test_score'])\n",
        "avg_dtc_test = np.average(dtc_cv['test_score'])\n",
        "avg_rfc_test = np.average(rfc_cv['test_score'])"
      ],
      "execution_count": null,
      "outputs": []
    },
    {
      "cell_type": "code",
      "metadata": {
        "id": "z3qalxJVNkrC"
      },
      "source": [
        "avg_svc_train = np.average(svc_cv['train_score'])\n",
        "avg_dtc_train = np.average(dtc_cv['train_score'])\n",
        "avg_rfc_train = np.average(rfc_cv['train_score'])"
      ],
      "execution_count": null,
      "outputs": []
    },
    {
      "cell_type": "code",
      "metadata": {
        "colab": {
          "base_uri": "https://localhost:8080/"
        },
        "id": "qYUul0UANk5W",
        "outputId": "5f88bc8a-5c54-4819-96ac-483eb11111d8"
      },
      "source": [
        "print(f'{avg_svc_test}')\n",
        "print(f'{avg_svc_train}')\n",
        "print()\n",
        "print(f'{avg_dtc_test}')\n",
        "print(f'{avg_dtc_train}')\n",
        "print()\n",
        "print(f'{avg_rfc_test}')\n",
        "print(f'{avg_rfc_train}')"
      ],
      "execution_count": null,
      "outputs": [
        {
          "output_type": "stream",
          "text": [
            "0.7625435227854582\n",
            "0.7954870976653885\n",
            "\n",
            "0.8123259088581669\n",
            "1.0\n",
            "\n",
            "0.8932629288274448\n",
            "1.0\n"
          ],
          "name": "stdout"
        }
      ]
    },
    {
      "cell_type": "markdown",
      "metadata": {
        "id": "zusjs-_OAgmR"
      },
      "source": [
        "# Hyperparametric tuning of the data"
      ]
    },
    {
      "cell_type": "code",
      "metadata": {
        "id": "sgSNVKnNUK8O"
      },
      "source": [
        ""
      ],
      "execution_count": null,
      "outputs": []
    },
    {
      "cell_type": "code",
      "metadata": {
        "id": "ql1hLXV9O6HW"
      },
      "source": [
        "from sklearn.model_selection import GridSearchCV"
      ],
      "execution_count": null,
      "outputs": []
    },
    {
      "cell_type": "code",
      "metadata": {
        "colab": {
          "base_uri": "https://localhost:8080/",
          "height": 127
        },
        "id": "8dGHY1CNNlKW",
        "outputId": "4e1c6823-4764-463e-a098-62a5e0271c54"
      },
      "source": [
        "params_svc = {'C': [1, 10],\n",
        "              'kernel': ['rbf'],\n",
        "              'gamma' : [0.5, 1]\n",
        "              }\n",
        "\n",
        "grid_svc = GridSearchCV(svc, params_svc, scoring='accuracy', cv=10, n_jobs=1, return_train_score=True, verbose=1)\n",
        "grid_svc_fit = grid_svc.fit(X_train, Y_train)\n",
        "cv_results_svc = pd.DataFrame.from_dict(grid_svc_fit.cv_results_)\n",
        "cv_results_svc.loc[(cv_results_svc['rank_test_score'] == 1)][['mean_test_score', 'params', 'mean_fit_time', 'mean_train_score']]"
      ],
      "execution_count": null,
      "outputs": [
        {
          "output_type": "stream",
          "text": [
            "Fitting 10 folds for each of 4 candidates, totalling 40 fits\n"
          ],
          "name": "stdout"
        },
        {
          "output_type": "stream",
          "text": [
            "[Parallel(n_jobs=1)]: Using backend SequentialBackend with 1 concurrent workers.\n",
            "[Parallel(n_jobs=1)]: Done  40 out of  40 | elapsed:   16.1s finished\n"
          ],
          "name": "stderr"
        },
        {
          "output_type": "execute_result",
          "data": {
            "text/html": [
              "<div>\n",
              "<style scoped>\n",
              "    .dataframe tbody tr th:only-of-type {\n",
              "        vertical-align: middle;\n",
              "    }\n",
              "\n",
              "    .dataframe tbody tr th {\n",
              "        vertical-align: top;\n",
              "    }\n",
              "\n",
              "    .dataframe thead th {\n",
              "        text-align: right;\n",
              "    }\n",
              "</style>\n",
              "<table border=\"1\" class=\"dataframe\">\n",
              "  <thead>\n",
              "    <tr style=\"text-align: right;\">\n",
              "      <th></th>\n",
              "      <th>mean_test_score</th>\n",
              "      <th>params</th>\n",
              "      <th>mean_fit_time</th>\n",
              "      <th>mean_train_score</th>\n",
              "    </tr>\n",
              "  </thead>\n",
              "  <tbody>\n",
              "    <tr>\n",
              "      <th>3</th>\n",
              "      <td>0.909729</td>\n",
              "      <td>{'C': 10, 'gamma': 1, 'kernel': 'rbf'}</td>\n",
              "      <td>0.29849</td>\n",
              "      <td>0.997345</td>\n",
              "    </tr>\n",
              "  </tbody>\n",
              "</table>\n",
              "</div>"
            ],
            "text/plain": [
              "   mean_test_score  ... mean_train_score\n",
              "3         0.909729  ...         0.997345\n",
              "\n",
              "[1 rows x 4 columns]"
            ]
          },
          "metadata": {
            "tags": []
          },
          "execution_count": 110
        }
      ]
    },
    {
      "cell_type": "markdown",
      "metadata": {
        "id": "4f1hKvzVMZ-S"
      },
      "source": [
        "2\t0.887542\t{'C': 1, 'gamma': 2, 'kernel': 'rbf'}\n",
        "2\t0.896142\t{'C': 5, 'gamma': 1, 'kernel': 'rbf'}\n",
        "6\t0.897574\t{'C': 10, 'gamma': 1, 'kernel': 'rbf'}\n",
        "3\t0.897932\t{'C': 25, 'gamma': 1, 'kernel': 'rbf'}\n",
        "1\t0.820926\t{'C': 100, 'kernel': 'poly'}"
      ]
    },
    {
      "cell_type": "code",
      "metadata": {
        "colab": {
          "base_uri": "https://localhost:8080/",
          "height": 164
        },
        "id": "E95INY9yNmLH",
        "outputId": "57d13c41-68a4-436c-a8c8-6fb1ef1e0ae5"
      },
      "source": [
        "cv_results_svc"
      ],
      "execution_count": null,
      "outputs": [
        {
          "output_type": "execute_result",
          "data": {
            "text/html": [
              "<div>\n",
              "<style scoped>\n",
              "    .dataframe tbody tr th:only-of-type {\n",
              "        vertical-align: middle;\n",
              "    }\n",
              "\n",
              "    .dataframe tbody tr th {\n",
              "        vertical-align: top;\n",
              "    }\n",
              "\n",
              "    .dataframe thead th {\n",
              "        text-align: right;\n",
              "    }\n",
              "</style>\n",
              "<table border=\"1\" class=\"dataframe\">\n",
              "  <thead>\n",
              "    <tr style=\"text-align: right;\">\n",
              "      <th></th>\n",
              "      <th>mean_fit_time</th>\n",
              "      <th>std_fit_time</th>\n",
              "      <th>mean_score_time</th>\n",
              "      <th>std_score_time</th>\n",
              "      <th>param_C</th>\n",
              "      <th>param_gamma</th>\n",
              "      <th>param_kernel</th>\n",
              "      <th>params</th>\n",
              "      <th>split0_test_score</th>\n",
              "      <th>split1_test_score</th>\n",
              "      <th>split2_test_score</th>\n",
              "      <th>split3_test_score</th>\n",
              "      <th>split4_test_score</th>\n",
              "      <th>mean_test_score</th>\n",
              "      <th>std_test_score</th>\n",
              "      <th>rank_test_score</th>\n",
              "      <th>split0_train_score</th>\n",
              "      <th>split1_train_score</th>\n",
              "      <th>split2_train_score</th>\n",
              "      <th>split3_train_score</th>\n",
              "      <th>split4_train_score</th>\n",
              "      <th>mean_train_score</th>\n",
              "      <th>std_train_score</th>\n",
              "    </tr>\n",
              "  </thead>\n",
              "  <tbody>\n",
              "    <tr>\n",
              "      <th>0</th>\n",
              "      <td>0.244276</td>\n",
              "      <td>0.012259</td>\n",
              "      <td>0.029649</td>\n",
              "      <td>0.001324</td>\n",
              "      <td>25</td>\n",
              "      <td>1</td>\n",
              "      <td>rbf</td>\n",
              "      <td>{'C': 25, 'gamma': 1, 'kernel': 'rbf'}</td>\n",
              "      <td>0.88551</td>\n",
              "      <td>0.883721</td>\n",
              "      <td>0.901434</td>\n",
              "      <td>0.897849</td>\n",
              "      <td>0.921147</td>\n",
              "      <td>0.897932</td>\n",
              "      <td>0.013472</td>\n",
              "      <td>1</td>\n",
              "      <td>0.998209</td>\n",
              "      <td>0.998209</td>\n",
              "      <td>0.998209</td>\n",
              "      <td>0.998209</td>\n",
              "      <td>0.998209</td>\n",
              "      <td>0.998209</td>\n",
              "      <td>3.928201e-07</td>\n",
              "    </tr>\n",
              "  </tbody>\n",
              "</table>\n",
              "</div>"
            ],
            "text/plain": [
              "   mean_fit_time  std_fit_time  ...  mean_train_score  std_train_score\n",
              "0       0.244276      0.012259  ...          0.998209     3.928201e-07\n",
              "\n",
              "[1 rows x 23 columns]"
            ]
          },
          "metadata": {
            "tags": []
          },
          "execution_count": 45
        }
      ]
    },
    {
      "cell_type": "code",
      "metadata": {
        "id": "NnhGrv2aWsSI",
        "colab": {
          "base_uri": "https://localhost:8080/"
        },
        "outputId": "54826852-87ca-4921-d94e-85dcd7b64ad3"
      },
      "source": [
        "param_dtc = {'max_depth':[80],\n",
        "             'min_samples_split':[1, 2],\n",
        "             'max_features': [9, 15, 50]\n",
        "             }\n",
        "grid_dtc = GridSearchCV(dtc, param_dtc,scoring='accuracy', cv=5, n_jobs=1, return_train_score=True, verbose=1)\n",
        "grid_dtc_fit = grid_dtc.fit(X_train, Y_train)"
      ],
      "execution_count": null,
      "outputs": [
        {
          "output_type": "stream",
          "text": [
            "Fitting 5 folds for each of 6 candidates, totalling 30 fits\n"
          ],
          "name": "stdout"
        },
        {
          "output_type": "stream",
          "text": [
            "[Parallel(n_jobs=1)]: Using backend SequentialBackend with 1 concurrent workers.\n",
            "[Parallel(n_jobs=1)]: Done  30 out of  30 | elapsed:    0.2s finished\n"
          ],
          "name": "stderr"
        }
      ]
    },
    {
      "cell_type": "code",
      "metadata": {
        "id": "MPwjwwP_lPI-",
        "colab": {
          "base_uri": "https://localhost:8080/",
          "height": 77
        },
        "outputId": "20925f8b-a1d8-4d84-c76f-451c1fedfa85"
      },
      "source": [
        "cv_results_dtc = pd.DataFrame.from_dict(grid_dtc_fit.cv_results_)\n",
        "cv_results_dtc.loc[(cv_results_dtc['rank_test_score'] == 1)][['mean_test_score', 'mean_train_score', 'param_max_depth', 'param_max_features',\t'param_min_samples_split']]"
      ],
      "execution_count": null,
      "outputs": [
        {
          "output_type": "execute_result",
          "data": {
            "text/html": [
              "<div>\n",
              "<style scoped>\n",
              "    .dataframe tbody tr th:only-of-type {\n",
              "        vertical-align: middle;\n",
              "    }\n",
              "\n",
              "    .dataframe tbody tr th {\n",
              "        vertical-align: top;\n",
              "    }\n",
              "\n",
              "    .dataframe thead th {\n",
              "        text-align: right;\n",
              "    }\n",
              "</style>\n",
              "<table border=\"1\" class=\"dataframe\">\n",
              "  <thead>\n",
              "    <tr style=\"text-align: right;\">\n",
              "      <th></th>\n",
              "      <th>mean_test_score</th>\n",
              "      <th>mean_train_score</th>\n",
              "      <th>param_max_depth</th>\n",
              "      <th>param_max_features</th>\n",
              "      <th>param_min_samples_split</th>\n",
              "    </tr>\n",
              "  </thead>\n",
              "  <tbody>\n",
              "    <tr>\n",
              "      <th>1</th>\n",
              "      <td>0.803379</td>\n",
              "      <td>1.0</td>\n",
              "      <td>80</td>\n",
              "      <td>9</td>\n",
              "      <td>2</td>\n",
              "    </tr>\n",
              "  </tbody>\n",
              "</table>\n",
              "</div>"
            ],
            "text/plain": [
              "   mean_test_score  mean_train_score  ... param_max_features param_min_samples_split\n",
              "1         0.803379               1.0  ...                  9                       2\n",
              "\n",
              "[1 rows x 5 columns]"
            ]
          },
          "metadata": {
            "tags": []
          },
          "execution_count": 66
        }
      ]
    },
    {
      "cell_type": "markdown",
      "metadata": {
        "id": "yLK1EupaMyfl"
      },
      "source": [
        "mean_test_score\tparam_max_depth\tparam_max_features\tparam_min_samples_split\n",
        "32\t0.796575\t12\t9\t2\n",
        "1\t0.803379\t20\t9\t2"
      ]
    },
    {
      "cell_type": "code",
      "metadata": {
        "id": "m_3itNFUWsPo",
        "colab": {
          "base_uri": "https://localhost:8080/"
        },
        "outputId": "794f65c4-e3ee-4fb6-ccf0-fa4fb92bc70c"
      },
      "source": [
        "param_rfc = {'n_estimators':[80], \n",
        "            'min_samples_split':[3],\n",
        "            'min_samples_leaf':[1]\n",
        "            }\n",
        "grid_rfc = GridSearchCV(rfc, param_rfc,scoring='accuracy', cv=10, n_jobs=1, return_train_score=True, verbose=1)\n",
        "grid_rfc_fit = grid_rfc.fit(X_train, Y_train)"
      ],
      "execution_count": null,
      "outputs": [
        {
          "output_type": "stream",
          "text": [
            "Fitting 10 folds for each of 1 candidates, totalling 10 fits\n"
          ],
          "name": "stdout"
        },
        {
          "output_type": "stream",
          "text": [
            "[Parallel(n_jobs=1)]: Using backend SequentialBackend with 1 concurrent workers.\n",
            "[Parallel(n_jobs=1)]: Done  10 out of  10 | elapsed:    5.2s finished\n"
          ],
          "name": "stderr"
        }
      ]
    },
    {
      "cell_type": "code",
      "metadata": {
        "id": "qlLFdfLQWsKG",
        "colab": {
          "base_uri": "https://localhost:8080/",
          "height": 77
        },
        "outputId": "28d182c9-96aa-4656-eaac-064f45052608"
      },
      "source": [
        "cv_results_rfc = pd.DataFrame.from_dict(grid_rfc_fit.cv_results_)\n",
        "cv_results_rfc.loc[(cv_results_rfc['rank_test_score'] == 1)][['mean_test_score', 'mean_train_score', 'param_n_estimators', 'param_min_samples_split', 'param_min_samples_leaf', 'mean_fit_time']]"
      ],
      "execution_count": null,
      "outputs": [
        {
          "output_type": "execute_result",
          "data": {
            "text/html": [
              "<div>\n",
              "<style scoped>\n",
              "    .dataframe tbody tr th:only-of-type {\n",
              "        vertical-align: middle;\n",
              "    }\n",
              "\n",
              "    .dataframe tbody tr th {\n",
              "        vertical-align: top;\n",
              "    }\n",
              "\n",
              "    .dataframe thead th {\n",
              "        text-align: right;\n",
              "    }\n",
              "</style>\n",
              "<table border=\"1\" class=\"dataframe\">\n",
              "  <thead>\n",
              "    <tr style=\"text-align: right;\">\n",
              "      <th></th>\n",
              "      <th>mean_test_score</th>\n",
              "      <th>mean_train_score</th>\n",
              "      <th>param_n_estimators</th>\n",
              "      <th>param_min_samples_split</th>\n",
              "      <th>param_min_samples_leaf</th>\n",
              "      <th>mean_fit_time</th>\n",
              "    </tr>\n",
              "  </thead>\n",
              "  <tbody>\n",
              "    <tr>\n",
              "      <th>0</th>\n",
              "      <td>0.893976</td>\n",
              "      <td>1.0</td>\n",
              "      <td>80</td>\n",
              "      <td>3</td>\n",
              "      <td>1</td>\n",
              "      <td>0.473669</td>\n",
              "    </tr>\n",
              "  </tbody>\n",
              "</table>\n",
              "</div>"
            ],
            "text/plain": [
              "   mean_test_score  mean_train_score  ... param_min_samples_leaf mean_fit_time\n",
              "0         0.893976               1.0  ...                      1      0.473669\n",
              "\n",
              "[1 rows x 6 columns]"
            ]
          },
          "metadata": {
            "tags": []
          },
          "execution_count": 68
        }
      ]
    },
    {
      "cell_type": "markdown",
      "metadata": {
        "id": "zKB7x7zlOrHe"
      },
      "source": [
        "\n",
        "mean_test_score\tparam_n_estimators\tparam_min_samples_split\tparam_min_samples_leaf\n",
        "4\t0.893976\t80\t3\t1"
      ]
    },
    {
      "cell_type": "code",
      "metadata": {
        "id": "rabuUmL-WsG-"
      },
      "source": [
        "svc_test = SVC(C=10, kernel='rbf', gamma=1, random_state=42)\n",
        "svc_test.fit(X_train, Y_train)\n",
        "Y_pred_test_svc = svc_test.predict(X_test)"
      ],
      "execution_count": null,
      "outputs": []
    },
    {
      "cell_type": "code",
      "metadata": {
        "id": "PvE2PUhCqE5D",
        "colab": {
          "base_uri": "https://localhost:8080/"
        },
        "outputId": "33c6308e-ce1a-45b9-e717-e70939da5844"
      },
      "source": [
        "cm_test_svc = confusion_matrix(Y_test, Y_pred_test_svc)\n",
        "cm_test_svc"
      ],
      "execution_count": null,
      "outputs": [
        {
          "output_type": "execute_result",
          "data": {
            "text/plain": [
              "array([[  0,   1,   2,   0,   0,   0],\n",
              "       [  0,   5,   6,   5,   0,   0],\n",
              "       [  0,   3, 145,  51,   5,   0],\n",
              "       [  0,   5,  64, 112,   9,   2],\n",
              "       [  0,   1,   9,  24,  21,   5],\n",
              "       [  0,   0,   2,   1,   1,   1]])"
            ]
          },
          "metadata": {
            "tags": []
          },
          "execution_count": 103
        }
      ]
    },
    {
      "cell_type": "code",
      "metadata": {
        "id": "igHotDAFqFIC",
        "colab": {
          "base_uri": "https://localhost:8080/"
        },
        "outputId": "0018ac89-0174-4f29-dfb2-769492c28eb4"
      },
      "source": [
        "from sklearn.metrics import accuracy_score\n",
        "\n",
        "score_test_svc = accuracy_score(Y_test, Y_pred_test_svc)\n",
        "score_test_svc"
      ],
      "execution_count": null,
      "outputs": [
        {
          "output_type": "execute_result",
          "data": {
            "text/plain": [
              "0.5916666666666667"
            ]
          },
          "metadata": {
            "tags": []
          },
          "execution_count": 104
        }
      ]
    },
    {
      "cell_type": "code",
      "metadata": {
        "id": "fiLJDnJ_WsBe"
      },
      "source": [
        ""
      ],
      "execution_count": null,
      "outputs": []
    },
    {
      "cell_type": "code",
      "metadata": {
        "id": "ceqf6mzdWr0m"
      },
      "source": [
        "rfc_test = RandomForestClassifier(n_estimators=80, min_samples_split=3, min_samples_leaf=1)\n",
        "rfc_test.fit(X_train, Y_train)\n",
        "Y_pred_test_rfc = rfc_test.predict(X_test)"
      ],
      "execution_count": null,
      "outputs": []
    },
    {
      "cell_type": "code",
      "metadata": {
        "colab": {
          "base_uri": "https://localhost:8080/"
        },
        "id": "vBKb0qFhf1OO",
        "outputId": "b6b7b195-35e0-43f9-96d1-3134c3743f2d"
      },
      "source": [
        "score_test_rfc = accuracy_score(Y_test, Y_pred_test_rfc)\n",
        "score_test_rfc"
      ],
      "execution_count": null,
      "outputs": [
        {
          "output_type": "execute_result",
          "data": {
            "text/plain": [
              "0.5958333333333333"
            ]
          },
          "metadata": {
            "tags": []
          },
          "execution_count": 71
        }
      ]
    },
    {
      "cell_type": "code",
      "metadata": {
        "id": "E-t2jQRdf1bE"
      },
      "source": [
        ""
      ],
      "execution_count": null,
      "outputs": []
    },
    {
      "cell_type": "code",
      "metadata": {
        "id": "CZN0JJAKf1hp"
      },
      "source": [
        ""
      ],
      "execution_count": null,
      "outputs": []
    },
    {
      "cell_type": "code",
      "metadata": {
        "id": "jLrQnorBf1lh"
      },
      "source": [
        ""
      ],
      "execution_count": null,
      "outputs": []
    }
  ]
}